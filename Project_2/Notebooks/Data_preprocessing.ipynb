{
 "cells": [
  {
   "cell_type": "markdown",
   "metadata": {},
   "source": [
    "# Data preprocessing"
   ]
  },
  {
   "cell_type": "code",
   "execution_count": 1,
   "metadata": {},
   "outputs": [],
   "source": [
    "import pandas as pd\n",
    "import numpy as np\n",
    "import matplotlib.pyplot as plt\n",
    "import seaborn as sns\n",
    "\n",
    "from sklearn.impute import KNNImputer as knn\n",
    "from sklearn.preprocessing import StandardScaler\n",
    "from sklearn.preprocessing import MinMaxScaler\n",
    "from sklearn import preprocessing as sk_pp\n",
    "\n",
    "%matplotlib inline"
   ]
  },
  {
   "cell_type": "markdown",
   "metadata": {},
   "source": [
    "### Read csv and change target column to numbers"
   ]
  },
  {
   "cell_type": "code",
   "execution_count": 2,
   "metadata": {},
   "outputs": [],
   "source": [
    "treino = pd.read_csv(\"training.csv\",sep=\";\",skipinitialspace=True,na_values='?')\n",
    "teste = pd.read_csv(\"test.csv\",sep=\";\",skipinitialspace=True,na_values='?')"
   ]
  },
  {
   "cell_type": "code",
   "execution_count": 3,
   "metadata": {},
   "outputs": [],
   "source": [
    "treino = treino.replace(to_replace=\"<=50K\",value=0)\n",
    "treino = treino.replace(to_replace=\">50K\",value=1)\n",
    "\n",
    "teste = teste.replace(to_replace=\"<=50K\",value=0)\n",
    "teste = teste.replace(to_replace=\">50K\",value=1)"
   ]
  },
  {
   "cell_type": "markdown",
   "metadata": {},
   "source": [
    "#### Drop column \"education\" because it is the same as \"education-num\""
   ]
  },
  {
   "cell_type": "code",
   "execution_count": 4,
   "metadata": {},
   "outputs": [],
   "source": [
    "treino = treino.drop(columns=['education'])\n",
    "teste = teste.drop(columns=['education'])"
   ]
  },
  {
   "cell_type": "markdown",
   "metadata": {},
   "source": [
    "#### Rename columns "
   ]
  },
  {
   "cell_type": "code",
   "execution_count": 5,
   "metadata": {},
   "outputs": [],
   "source": [
    "treino.rename(columns={'education-num': 'education', 'marital-status': 'maritalstatus', 'capital-gain': 'capitalgain', 'capital-loss': 'capitalloss', 'hours-per-week': 'workhoursweek', 'native-country': 'nativecountry', 'salary-classification': 'salary' }, inplace=True)\n",
    "teste.rename(columns={'education-num': 'education', 'marital-status': 'maritalstatus', 'capital-gain': 'capitalgain', 'capital-loss': 'capitalloss', 'hours-per-week': 'workhoursweek', 'native-country': 'nativecountry', 'salary-classification': 'salary' }, inplace=True)"
   ]
  },
  {
   "cell_type": "markdown",
   "metadata": {},
   "source": [
    "# Different approaches"
   ]
  },
  {
   "cell_type": "markdown",
   "metadata": {},
   "source": [
    "# 1 - Remove all nulls and save it in a csv"
   ]
  },
  {
   "cell_type": "code",
   "execution_count": 6,
   "metadata": {},
   "outputs": [],
   "source": [
    "treino0null = treino.dropna()\n",
    "teste0null = teste.dropna()"
   ]
  },
  {
   "cell_type": "code",
   "execution_count": 7,
   "metadata": {},
   "outputs": [],
   "source": [
    "treino0null.to_csv(\"training_0null_strings.csv\", index = False)\n",
    "teste0null.to_csv(\"test_0null_strings.csv\", index = False)"
   ]
  },
  {
   "cell_type": "code",
   "execution_count": 8,
   "metadata": {},
   "outputs": [
    {
     "name": "stdout",
     "output_type": "stream",
     "text": [
      "<class 'pandas.core.frame.DataFrame'>\n",
      "Int64Index: 30162 entries, 0 to 32560\n",
      "Data columns (total 14 columns):\n",
      " #   Column         Non-Null Count  Dtype \n",
      "---  ------         --------------  ----- \n",
      " 0   age            30162 non-null  int64 \n",
      " 1   workclass      30162 non-null  object\n",
      " 2   fnlwgt         30162 non-null  int64 \n",
      " 3   education      30162 non-null  int64 \n",
      " 4   maritalstatus  30162 non-null  object\n",
      " 5   occupation     30162 non-null  object\n",
      " 6   relationship   30162 non-null  object\n",
      " 7   race           30162 non-null  object\n",
      " 8   sex            30162 non-null  object\n",
      " 9   capitalgain    30162 non-null  int64 \n",
      " 10  capitalloss    30162 non-null  int64 \n",
      " 11  workhoursweek  30162 non-null  int64 \n",
      " 12  nativecountry  30162 non-null  object\n",
      " 13  salary         30162 non-null  int64 \n",
      "dtypes: int64(7), object(7)\n",
      "memory usage: 3.5+ MB\n"
     ]
    }
   ],
   "source": [
    "treino0null.info()"
   ]
  },
  {
   "cell_type": "code",
   "execution_count": 9,
   "metadata": {},
   "outputs": [],
   "source": [
    "merged = pd.concat([treino0null, teste0null], ignore_index=True)"
   ]
  },
  {
   "cell_type": "code",
   "execution_count": 10,
   "metadata": {},
   "outputs": [],
   "source": [
    "le = sk_pp.OrdinalEncoder()\n",
    "merged['workclass'] = le.fit_transform(merged[['workclass']]).astype(int)\n",
    "merged['maritalstatus'] = le.fit_transform(merged[['maritalstatus']]).astype(int)\n",
    "merged['occupation'] = le.fit_transform(merged[['occupation']]).astype(int)\n",
    "merged['relationship'] = le.fit_transform(merged[['relationship']]).astype(int)\n",
    "merged['race'] = le.fit_transform(merged[['race']]).astype(int)\n",
    "merged['sex'] = le.fit_transform(merged[['sex']]).astype(int)\n",
    "merged['nativecountry'] = le.fit_transform(merged[['nativecountry']]).astype(int)"
   ]
  },
  {
   "cell_type": "code",
   "execution_count": 11,
   "metadata": {},
   "outputs": [],
   "source": [
    "treino0null = merged.iloc[:30162, :]\n",
    "teste0null = merged.iloc[30162:, :]"
   ]
  },
  {
   "cell_type": "code",
   "execution_count": 12,
   "metadata": {},
   "outputs": [],
   "source": [
    "treino0null.to_csv(\"training_0null.csv\", index = False)\n",
    "teste0null.to_csv(\"test_0null.csv\", index = False)"
   ]
  },
  {
   "cell_type": "markdown",
   "metadata": {},
   "source": [
    "# 2 - Change missing values to mode and save it in a csv"
   ]
  },
  {
   "cell_type": "code",
   "execution_count": 13,
   "metadata": {},
   "outputs": [],
   "source": [
    "treino_mode = treino.copy()\n",
    "teste_mode = teste.copy()\n",
    "\n",
    "tnullsWork = teste_mode['workclass'].isnull()\n",
    "tnullsOccup = teste_mode['occupation'].isnull()\n",
    "tnullsNatC = teste_mode['nativecountry'].isnull()"
   ]
  },
  {
   "cell_type": "code",
   "execution_count": 14,
   "metadata": {},
   "outputs": [],
   "source": [
    "for column in ['workclass', 'occupation', 'nativecountry']:\n",
    "    treino_mode[column].fillna(treino_mode[column].mode()[0], inplace=True)"
   ]
  },
  {
   "cell_type": "code",
   "execution_count": 15,
   "metadata": {},
   "outputs": [],
   "source": [
    "for column in ['workclass', 'occupation', 'nativecountry']:\n",
    "    teste_mode[column].fillna(teste_mode[column].mode()[0], inplace=True)"
   ]
  },
  {
   "cell_type": "code",
   "execution_count": 16,
   "metadata": {},
   "outputs": [],
   "source": [
    "treino_mode.to_csv(\"training_mode_strings.csv\", index = False)\n",
    "teste_mode.to_csv(\"test_mode_strings.csv\", index = False)"
   ]
  },
  {
   "cell_type": "code",
   "execution_count": 17,
   "metadata": {},
   "outputs": [
    {
     "name": "stdout",
     "output_type": "stream",
     "text": [
      "<class 'pandas.core.frame.DataFrame'>\n",
      "RangeIndex: 32561 entries, 0 to 32560\n",
      "Data columns (total 14 columns):\n",
      " #   Column         Non-Null Count  Dtype \n",
      "---  ------         --------------  ----- \n",
      " 0   age            32561 non-null  int64 \n",
      " 1   workclass      32561 non-null  object\n",
      " 2   fnlwgt         32561 non-null  int64 \n",
      " 3   education      32561 non-null  int64 \n",
      " 4   maritalstatus  32561 non-null  object\n",
      " 5   occupation     32561 non-null  object\n",
      " 6   relationship   32561 non-null  object\n",
      " 7   race           32561 non-null  object\n",
      " 8   sex            32561 non-null  object\n",
      " 9   capitalgain    32561 non-null  int64 \n",
      " 10  capitalloss    32561 non-null  int64 \n",
      " 11  workhoursweek  32561 non-null  int64 \n",
      " 12  nativecountry  32561 non-null  object\n",
      " 13  salary         32561 non-null  int64 \n",
      "dtypes: int64(7), object(7)\n",
      "memory usage: 3.5+ MB\n"
     ]
    }
   ],
   "source": [
    "treino_mode.info()"
   ]
  },
  {
   "cell_type": "code",
   "execution_count": 18,
   "metadata": {},
   "outputs": [],
   "source": [
    "merged = pd.concat([treino_mode, teste_mode], ignore_index=True)"
   ]
  },
  {
   "cell_type": "code",
   "execution_count": 19,
   "metadata": {},
   "outputs": [],
   "source": [
    "le = sk_pp.OrdinalEncoder()\n",
    "merged['workclass'] = le.fit_transform(merged[['workclass']]).astype(int)\n",
    "merged['maritalstatus'] = le.fit_transform(merged[['maritalstatus']]).astype(int)\n",
    "merged['occupation'] = le.fit_transform(merged[['occupation']]).astype(int)\n",
    "merged['relationship'] = le.fit_transform(merged[['relationship']]).astype(int)\n",
    "merged['race'] = le.fit_transform(merged[['race']]).astype(int)\n",
    "merged['sex'] = le.fit_transform(merged[['sex']]).astype(int)\n",
    "merged['nativecountry'] = le.fit_transform(merged[['nativecountry']]).astype(int)"
   ]
  },
  {
   "cell_type": "code",
   "execution_count": 20,
   "metadata": {},
   "outputs": [],
   "source": [
    "treino_mode = merged.iloc[:32561, :]\n",
    "teste_mode = merged.iloc[32561:, :]"
   ]
  },
  {
   "cell_type": "code",
   "execution_count": 21,
   "metadata": {},
   "outputs": [],
   "source": [
    "teste_mode = teste_mode.reset_index()\n",
    "teste_mode = teste_mode.drop(columns=['index'])"
   ]
  },
  {
   "cell_type": "code",
   "execution_count": 22,
   "metadata": {},
   "outputs": [],
   "source": [
    "teste_mode.loc[tnullsWork==True,'workclass'] = np.nan\n",
    "teste_mode.loc[tnullsOccup==True,'occupation'] = np.nan\n",
    "teste_mode.loc[tnullsNatC==True,'nativecountry'] = np.nan"
   ]
  },
  {
   "cell_type": "code",
   "execution_count": 23,
   "metadata": {},
   "outputs": [],
   "source": [
    "teste_mode = teste_mode.dropna()"
   ]
  },
  {
   "cell_type": "code",
   "execution_count": 24,
   "metadata": {},
   "outputs": [],
   "source": [
    "treino_mode.to_csv(\"training_mode.csv\", index = False)\n",
    "teste_mode.to_csv(\"test_mode.csv\", index = False)"
   ]
  },
  {
   "cell_type": "markdown",
   "metadata": {},
   "source": [
    "# 3 - Change missing values using KNN "
   ]
  },
  {
   "cell_type": "code",
   "execution_count": 25,
   "metadata": {},
   "outputs": [],
   "source": [
    "treino_knn = treino.copy()\n",
    "teste_knn = teste.copy()\n",
    "\n",
    "knullsWork = teste_knn['workclass'].isnull()\n",
    "knullsOccup = teste_knn['occupation'].isnull()\n",
    "knullsNatC = teste_knn['nativecountry'].isnull()"
   ]
  },
  {
   "cell_type": "code",
   "execution_count": 26,
   "metadata": {},
   "outputs": [
    {
     "data": {
      "text/html": [
       "<div>\n",
       "<style scoped>\n",
       "    .dataframe tbody tr th:only-of-type {\n",
       "        vertical-align: middle;\n",
       "    }\n",
       "\n",
       "    .dataframe tbody tr th {\n",
       "        vertical-align: top;\n",
       "    }\n",
       "\n",
       "    .dataframe thead th {\n",
       "        text-align: right;\n",
       "    }\n",
       "</style>\n",
       "<table border=\"1\" class=\"dataframe\">\n",
       "  <thead>\n",
       "    <tr style=\"text-align: right;\">\n",
       "      <th></th>\n",
       "      <th>age</th>\n",
       "      <th>workclass</th>\n",
       "      <th>fnlwgt</th>\n",
       "      <th>education</th>\n",
       "      <th>maritalstatus</th>\n",
       "      <th>occupation</th>\n",
       "      <th>relationship</th>\n",
       "      <th>race</th>\n",
       "      <th>sex</th>\n",
       "      <th>capitalgain</th>\n",
       "      <th>capitalloss</th>\n",
       "      <th>workhoursweek</th>\n",
       "      <th>nativecountry</th>\n",
       "      <th>salary</th>\n",
       "    </tr>\n",
       "  </thead>\n",
       "  <tbody>\n",
       "    <tr>\n",
       "      <th>0</th>\n",
       "      <td>25</td>\n",
       "      <td>Private</td>\n",
       "      <td>226802</td>\n",
       "      <td>7</td>\n",
       "      <td>Never-married</td>\n",
       "      <td>Machine-op-inspct</td>\n",
       "      <td>Own-child</td>\n",
       "      <td>Black</td>\n",
       "      <td>Male</td>\n",
       "      <td>0</td>\n",
       "      <td>0</td>\n",
       "      <td>40</td>\n",
       "      <td>United-States</td>\n",
       "      <td>0</td>\n",
       "    </tr>\n",
       "    <tr>\n",
       "      <th>1</th>\n",
       "      <td>38</td>\n",
       "      <td>Private</td>\n",
       "      <td>89814</td>\n",
       "      <td>9</td>\n",
       "      <td>Married-civ-spouse</td>\n",
       "      <td>Farming-fishing</td>\n",
       "      <td>Husband</td>\n",
       "      <td>White</td>\n",
       "      <td>Male</td>\n",
       "      <td>0</td>\n",
       "      <td>0</td>\n",
       "      <td>50</td>\n",
       "      <td>United-States</td>\n",
       "      <td>0</td>\n",
       "    </tr>\n",
       "    <tr>\n",
       "      <th>2</th>\n",
       "      <td>28</td>\n",
       "      <td>Local-gov</td>\n",
       "      <td>336951</td>\n",
       "      <td>12</td>\n",
       "      <td>Married-civ-spouse</td>\n",
       "      <td>Protective-serv</td>\n",
       "      <td>Husband</td>\n",
       "      <td>White</td>\n",
       "      <td>Male</td>\n",
       "      <td>0</td>\n",
       "      <td>0</td>\n",
       "      <td>40</td>\n",
       "      <td>United-States</td>\n",
       "      <td>1</td>\n",
       "    </tr>\n",
       "    <tr>\n",
       "      <th>3</th>\n",
       "      <td>44</td>\n",
       "      <td>Private</td>\n",
       "      <td>160323</td>\n",
       "      <td>10</td>\n",
       "      <td>Married-civ-spouse</td>\n",
       "      <td>Machine-op-inspct</td>\n",
       "      <td>Husband</td>\n",
       "      <td>Black</td>\n",
       "      <td>Male</td>\n",
       "      <td>7688</td>\n",
       "      <td>0</td>\n",
       "      <td>40</td>\n",
       "      <td>United-States</td>\n",
       "      <td>1</td>\n",
       "    </tr>\n",
       "    <tr>\n",
       "      <th>4</th>\n",
       "      <td>18</td>\n",
       "      <td>NaN</td>\n",
       "      <td>103497</td>\n",
       "      <td>10</td>\n",
       "      <td>Never-married</td>\n",
       "      <td>NaN</td>\n",
       "      <td>Own-child</td>\n",
       "      <td>White</td>\n",
       "      <td>Female</td>\n",
       "      <td>0</td>\n",
       "      <td>0</td>\n",
       "      <td>30</td>\n",
       "      <td>United-States</td>\n",
       "      <td>0</td>\n",
       "    </tr>\n",
       "  </tbody>\n",
       "</table>\n",
       "</div>"
      ],
      "text/plain": [
       "   age  workclass  fnlwgt  education       maritalstatus         occupation  \\\n",
       "0   25    Private  226802          7       Never-married  Machine-op-inspct   \n",
       "1   38    Private   89814          9  Married-civ-spouse    Farming-fishing   \n",
       "2   28  Local-gov  336951         12  Married-civ-spouse    Protective-serv   \n",
       "3   44    Private  160323         10  Married-civ-spouse  Machine-op-inspct   \n",
       "4   18        NaN  103497         10       Never-married                NaN   \n",
       "\n",
       "  relationship   race     sex  capitalgain  capitalloss  workhoursweek  \\\n",
       "0    Own-child  Black    Male            0            0             40   \n",
       "1      Husband  White    Male            0            0             50   \n",
       "2      Husband  White    Male            0            0             40   \n",
       "3      Husband  Black    Male         7688            0             40   \n",
       "4    Own-child  White  Female            0            0             30   \n",
       "\n",
       "   nativecountry  salary  \n",
       "0  United-States       0  \n",
       "1  United-States       0  \n",
       "2  United-States       1  \n",
       "3  United-States       1  \n",
       "4  United-States       0  "
      ]
     },
     "execution_count": 26,
     "metadata": {},
     "output_type": "execute_result"
    }
   ],
   "source": [
    "teste_knn.head()"
   ]
  },
  {
   "cell_type": "code",
   "execution_count": 27,
   "metadata": {},
   "outputs": [],
   "source": [
    "merged = pd.concat([treino_knn, teste_knn], ignore_index=True)"
   ]
  },
  {
   "cell_type": "code",
   "execution_count": 28,
   "metadata": {},
   "outputs": [],
   "source": [
    "mergedNullWork = merged['workclass'].isnull()\n",
    "mergedNullOccup = merged['occupation'].isnull()\n",
    "mergedNullNatC = merged['nativecountry'].isnull()"
   ]
  },
  {
   "cell_type": "code",
   "execution_count": 29,
   "metadata": {},
   "outputs": [],
   "source": [
    "merged = merged.fillna(\"?\")"
   ]
  },
  {
   "cell_type": "code",
   "execution_count": 30,
   "metadata": {},
   "outputs": [],
   "source": [
    "le = sk_pp.OrdinalEncoder()\n",
    "merged['workclass'] = le.fit_transform(merged[['workclass']]).astype(int)\n",
    "merged['maritalstatus'] = le.fit_transform(merged[['maritalstatus']]).astype(int)\n",
    "merged['occupation'] = le.fit_transform(merged[['occupation']]).astype(int)\n",
    "merged['relationship'] = le.fit_transform(merged[['relationship']]).astype(int)\n",
    "merged['race'] = le.fit_transform(merged[['race']]).astype(int)\n",
    "merged['sex'] = le.fit_transform(merged[['sex']]).astype(int)\n",
    "merged['nativecountry'] = le.fit_transform(merged[['nativecountry']]).astype(int)"
   ]
  },
  {
   "cell_type": "code",
   "execution_count": 31,
   "metadata": {},
   "outputs": [],
   "source": [
    "merged.loc[mergedNullWork==True,'workclass'] = np.nan\n",
    "merged.loc[mergedNullOccup==True,'occupation'] = np.nan\n",
    "merged.loc[mergedNullNatC==True,'nativecountry'] = np.nan"
   ]
  },
  {
   "cell_type": "code",
   "execution_count": 32,
   "metadata": {},
   "outputs": [],
   "source": [
    "imputer = knn(n_neighbors=5,weights='uniform', metric='nan_euclidean')"
   ]
  },
  {
   "cell_type": "code",
   "execution_count": 33,
   "metadata": {},
   "outputs": [],
   "source": [
    "merged = pd.DataFrame(np.round(imputer.fit_transform(merged)), columns = merged.columns)"
   ]
  },
  {
   "cell_type": "code",
   "execution_count": 34,
   "metadata": {},
   "outputs": [],
   "source": [
    "treino_knn = merged.iloc[:32561, :]\n",
    "teste_knn = merged.iloc[32561:, :]"
   ]
  },
  {
   "cell_type": "code",
   "execution_count": 35,
   "metadata": {},
   "outputs": [],
   "source": [
    "teste_knn = teste_knn.reset_index()\n",
    "teste_knn = teste_knn.drop(columns=['index'])"
   ]
  },
  {
   "cell_type": "code",
   "execution_count": 36,
   "metadata": {},
   "outputs": [],
   "source": [
    "teste_knn.loc[knullsWork==True,'workclass'] = np.nan\n",
    "teste_knn.loc[knullsOccup==True,'occupation'] = np.nan\n",
    "teste_knn.loc[knullsNatC==True,'nativecountry'] = np.nan"
   ]
  },
  {
   "cell_type": "code",
   "execution_count": 37,
   "metadata": {},
   "outputs": [
    {
     "data": {
      "text/plain": [
       "age                0\n",
       "workclass        963\n",
       "fnlwgt             0\n",
       "education          0\n",
       "maritalstatus      0\n",
       "occupation       966\n",
       "relationship       0\n",
       "race               0\n",
       "sex                0\n",
       "capitalgain        0\n",
       "capitalloss        0\n",
       "workhoursweek      0\n",
       "nativecountry    274\n",
       "salary             0\n",
       "dtype: int64"
      ]
     },
     "execution_count": 37,
     "metadata": {},
     "output_type": "execute_result"
    }
   ],
   "source": [
    "teste_knn.isnull().sum()"
   ]
  },
  {
   "cell_type": "code",
   "execution_count": 38,
   "metadata": {},
   "outputs": [],
   "source": [
    "teste_knn = teste_knn.dropna()"
   ]
  },
  {
   "cell_type": "code",
   "execution_count": 39,
   "metadata": {},
   "outputs": [
    {
     "data": {
      "text/plain": [
       "age              0\n",
       "workclass        0\n",
       "fnlwgt           0\n",
       "education        0\n",
       "maritalstatus    0\n",
       "occupation       0\n",
       "relationship     0\n",
       "race             0\n",
       "sex              0\n",
       "capitalgain      0\n",
       "capitalloss      0\n",
       "workhoursweek    0\n",
       "nativecountry    0\n",
       "salary           0\n",
       "dtype: int64"
      ]
     },
     "execution_count": 39,
     "metadata": {},
     "output_type": "execute_result"
    }
   ],
   "source": [
    "teste_knn.isnull().sum()"
   ]
  },
  {
   "cell_type": "code",
   "execution_count": 40,
   "metadata": {},
   "outputs": [],
   "source": [
    "treino_knn.to_csv(\"training_knn.csv\", index = False)\n",
    "teste_knn.to_csv(\"test_knn.csv\", index = False)"
   ]
  }
 ],
 "metadata": {
  "kernelspec": {
   "display_name": "Python 3",
   "language": "python",
   "name": "python3"
  },
  "language_info": {
   "codemirror_mode": {
    "name": "ipython",
    "version": 3
   },
   "file_extension": ".py",
   "mimetype": "text/x-python",
   "name": "python",
   "nbconvert_exporter": "python",
   "pygments_lexer": "ipython3",
   "version": "3.8.3"
  }
 },
 "nbformat": 4,
 "nbformat_minor": 4
}
